{
 "cells": [
  {
   "cell_type": "code",
   "execution_count": 1,
   "id": "3e5aa8b5",
   "metadata": {},
   "outputs": [
    {
     "name": "stderr",
     "output_type": "stream",
     "text": [
      "usage: ipykernel_launcher.py [-h] -i IMAGE\n",
      "ipykernel_launcher.py: error: the following arguments are required: -i/--image\n"
     ]
    },
    {
     "ename": "SystemExit",
     "evalue": "2",
     "output_type": "error",
     "traceback": [
      "An exception has occurred, use %tb to see the full traceback.\n",
      "\u001b[1;31mSystemExit\u001b[0m\u001b[1;31m:\u001b[0m 2\n"
     ]
    },
    {
     "name": "stderr",
     "output_type": "stream",
     "text": [
      "C:\\Users\\ramch\\anaconda3\\lib\\site-packages\\IPython\\core\\interactiveshell.py:3377: UserWarning: To exit: use 'exit', 'quit', or Ctrl-D.\n",
      "  warn(\"To exit: use 'exit', 'quit', or Ctrl-D.\", stacklevel=1)\n"
     ]
    }
   ],
   "source": [
    "# Import statements\n",
    "import numpy as np\n",
    "import argparse\n",
    "import cv2\n",
    "import os\n",
    "\n",
    "# Paths to load the model\n",
    "DIR = r\"C:\\Users\\ramch\\colorize\"\n",
    "PROTOTXT = os.path.join(DIR, r\"Model/colorization_deploy_v2.prototxt\")\n",
    "POINTS = os.path.join(DIR, r\"Model/pts_in_hull.npy\")\n",
    "MODEL = os.path.join(DIR, r\"Model/colorization_release_v2.caffemodel\")\n",
    "\n",
    "# Argparser\n",
    "ap = argparse.ArgumentParser()\n",
    "ap.add_argument(\"-i\", \"--image\", type=str, required=True,\n",
    "\thelp=\"path to input black and white image\")\n",
    "args = vars(ap.parse_args())\n",
    "\n",
    "# Load the Model\n",
    "print(\"Load model\")\n",
    "net = cv2.dnn.readNetFromCaffe(PROTOTXT, MODEL)\n",
    "pts = np.load(POINTS)\n",
    "\n",
    "# Load centers for ab channel quantization used for rebalancing.\n",
    "class8 = net.getLayerId(\"class8_ab\")\n",
    "conv8 = net.getLayerId(\"conv8_313_rh\")\n",
    "pts = pts.transpose().reshape(2, 313, 1, 1)\n",
    "net.getLayer(class8).blobs = [pts.astype(\"float32\")]\n",
    "net.getLayer(conv8).blobs = [np.full([1, 313], 2.606, dtype=\"float32\")]\n",
    "\n",
    "# Load the input image\n",
    "image = cv2.imread(args[\"image\"])\n",
    "scaled = image.astype(\"float32\") / 255.0\n",
    "lab = cv2.cvtColor(scaled, cv2.COLOR_BGR2LAB)\n",
    "\n",
    "resized = cv2.resize(lab, (224, 224))\n",
    "L = cv2.split(resized)[0]\n",
    "L -= 50\n",
    "\n",
    "print(\"Colorizing the image\")\n",
    "net.setInput(cv2.dnn.blobFromImage(L))\n",
    "ab = net.forward()[0, :, :, :].transpose((1, 2, 0))\n",
    "\n",
    "ab = cv2.resize(ab, (image.shape[1], image.shape[0]))\n",
    "\n",
    "L = cv2.split(lab)[0]\n",
    "colorized = np.concatenate((L[:, :, np.newaxis], ab), axis=2)\n",
    "\n",
    "colorized = cv2.cvtColor(colorized, cv2.COLOR_LAB2BGR)\n",
    "colorized = np.clip(colorized, 0, 1)\n",
    "\n",
    "colorized = (255 * colorized).astype(\"uint8\")\n",
    "\n",
    "cv2.imshow(\"Original\", image)\n",
    "cv2.imshow(\"Colorized\", colorized)\n",
    "cv2.waitKey(0)"
   ]
  },
  {
   "cell_type": "code",
   "execution_count": null,
   "id": "a49c998b",
   "metadata": {},
   "outputs": [],
   "source": []
  }
 ],
 "metadata": {
  "kernelspec": {
   "display_name": "Python 3 (ipykernel)",
   "language": "python",
   "name": "python3"
  },
  "language_info": {
   "codemirror_mode": {
    "name": "ipython",
    "version": 3
   },
   "file_extension": ".py",
   "mimetype": "text/x-python",
   "name": "python",
   "nbconvert_exporter": "python",
   "pygments_lexer": "ipython3",
   "version": "3.9.12"
  }
 },
 "nbformat": 4,
 "nbformat_minor": 5
}
